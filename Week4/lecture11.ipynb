{
 "cells": [
  {
   "cell_type": "code",
   "execution_count": 1,
   "metadata": {},
   "outputs": [],
   "source": [
    "%matplotlib inline"
   ]
  },
  {
   "cell_type": "code",
   "execution_count": 3,
   "metadata": {},
   "outputs": [],
   "source": [
    "import numpy as np\n",
    "import matplotlib.pyplot as plt\n",
    "import scipy.sparse as sparse\n",
    "import scipy.sparse.linalg as spla\n",
    "import finite_lec as finite \n",
    "import timesteppers_lec as timesteppers \n",
    "import time\n",
    "from IPython.display import display, clear_output"
   ]
  },
  {
   "cell_type": "markdown",
   "metadata": {},
   "source": [
    "How does the matrix solve work? One way is using the LU factorization. We are trying to solve\n",
    "$$ A\\cdot x = b$$\n",
    "for $x$. We can write\n",
    "$$ A = L \\cdot U$$\n",
    "where $L$ is a lower-triangular matrix, and $U$ is an upper-triangular matrix."
   ]
  },
  {
   "cell_type": "code",
   "execution_count": 4,
   "metadata": {},
   "outputs": [],
   "source": [
    "def plot_2D(matrix):\n",
    "    lim_margin = -0.05\n",
    "    fig = plt.figure(figsize=(3,3))\n",
    "    ax = fig.add_subplot()\n",
    "    I, J = matrix.shape\n",
    "    matrix_mag = np.log10(np.abs(matrix))\n",
    "    ax.pcolor(matrix_mag[::-1])\n",
    "    ax.set_xlim(-lim_margin, I+lim_margin)\n",
    "    ax.set_ylim(-lim_margin, J+lim_margin)\n",
    "    ax.set_xticks([])\n",
    "    ax.set_yticks([])\n",
    "    ax.set_aspect('equal', 'box')\n",
    "    plt.tight_layout()"
   ]
  },
  {
   "cell_type": "code",
   "execution_count": null,
   "metadata": {},
   "outputs": [],
   "source": [
    "rest = 400 \n",
    "grid = finite.UniformPeriodicGrid(rest,20)\n",
    "x = grid.values\n",
    "IC = np.exp(-(x-10)**2/4) # initial condition\n",
    "target = 1/np.sqrt(2) * np.exp(-(x-10)**2/8)\n"
   ]
  },
  {
   "cell_type": "code",
   "execution_count": null,
   "metadata": {},
   "outputs": [],
   "source": []
  },
  {
   "cell_type": "code",
   "execution_count": null,
   "metadata": {},
   "outputs": [],
   "source": []
  },
  {
   "cell_type": "code",
   "execution_count": null,
   "metadata": {},
   "outputs": [],
   "source": []
  },
  {
   "cell_type": "code",
   "execution_count": null,
   "metadata": {},
   "outputs": [],
   "source": []
  },
  {
   "cell_type": "markdown",
   "metadata": {},
   "source": [
    "Once doing this factorization, we solve\n",
    "$$ U \\cdot y = b$$\n",
    "and then\n",
    "$$ L \\cdot x = y.$$"
   ]
  },
  {
   "cell_type": "code",
   "execution_count": null,
   "metadata": {},
   "outputs": [],
   "source": []
  },
  {
   "cell_type": "code",
   "execution_count": null,
   "metadata": {},
   "outputs": [],
   "source": []
  },
  {
   "cell_type": "code",
   "execution_count": null,
   "metadata": {},
   "outputs": [],
   "source": []
  },
  {
   "cell_type": "code",
   "execution_count": null,
   "metadata": {},
   "outputs": [],
   "source": []
  },
  {
   "cell_type": "markdown",
   "metadata": {},
   "source": [
    "## Crank-Nicolson\n",
    "\n",
    "The Crank-Nicolson method is\n",
    "$$u^{n} = u^{n-1} + \\Delta t \\frac{1}{2}\\left(L(u^n) + L(u^{n-1})\\right).$$\n",
    "We can rewrite this as\n",
    "$$(I - (\\Delta t/2) L) u^{n} = (I + (\\Delta t/2) L) u^{n-1}.$$"
   ]
  },
  {
   "cell_type": "code",
   "execution_count": null,
   "metadata": {},
   "outputs": [],
   "source": [
    "class CrankNicolson(timesteppers.ImplicitTimestepper):\n",
    "\n",
    "    def _step(self, dt):\n",
    "        pass"
   ]
  },
  {
   "cell_type": "markdown",
   "metadata": {},
   "source": [
    "Solve the diffusion equation\n",
    "$$\\partial_t u = \\partial_x^2 u.$$"
   ]
  },
  {
   "cell_type": "code",
   "execution_count": null,
   "metadata": {},
   "outputs": [],
   "source": []
  },
  {
   "cell_type": "code",
   "execution_count": null,
   "metadata": {},
   "outputs": [],
   "source": []
  },
  {
   "cell_type": "code",
   "execution_count": null,
   "metadata": {},
   "outputs": [],
   "source": []
  },
  {
   "cell_type": "code",
   "execution_count": null,
   "metadata": {},
   "outputs": [],
   "source": []
  }
 ],
 "metadata": {
  "kernelspec": {
   "display_name": "446-1",
   "language": "python",
   "name": "python3"
  },
  "language_info": {
   "codemirror_mode": {
    "name": "ipython",
    "version": 3
   },
   "file_extension": ".py",
   "mimetype": "text/x-python",
   "name": "python",
   "nbconvert_exporter": "python",
   "pygments_lexer": "ipython3",
   "version": "3.12.7"
  }
 },
 "nbformat": 4,
 "nbformat_minor": 4
}
