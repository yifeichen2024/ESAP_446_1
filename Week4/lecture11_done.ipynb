{
 "cells": [
  {
   "cell_type": "code",
   "execution_count": 1,
   "metadata": {},
   "outputs": [],
   "source": [
    "%matplotlib inline"
   ]
  },
  {
   "cell_type": "code",
   "execution_count": 2,
   "metadata": {},
   "outputs": [],
   "source": [
    "import numpy as np\n",
    "import matplotlib.pyplot as plt\n",
    "import scipy.sparse as sparse\n",
    "import scipy.sparse.linalg as spla\n",
    "import finite_lec as finite \n",
    "import timesteppers_lec as timesteppers \n",
    "import time"
   ]
  },
  {
   "cell_type": "markdown",
   "metadata": {},
   "source": [
    "How does the matrix solve work? One way is using the LU factorization. We are trying to solve\n",
    "$$ A\\cdot x = b$$\n",
    "for $x$. We can write\n",
    "$$ A = L \\cdot U$$\n",
    "where $L$ is a lower-triangular matrix, and $U$ is an upper-triangular matrix."
   ]
  },
  {
   "cell_type": "code",
   "execution_count": 8,
   "metadata": {},
   "outputs": [],
   "source": [
    "def plot_2D(matrix):\n",
    "    lim_margin = -0.05\n",
    "    fig = plt.figure(figsize=(3,3))\n",
    "    ax = fig.add_subplot()\n",
    "    I, J = matrix.shape\n",
    "    matrix_mag = np.log10(np.abs(matrix))\n",
    "    ax.pcolor(matrix_mag[::-1])\n",
    "    ax.set_xlim(-lim_margin, I+lim_margin)\n",
    "    ax.set_ylim(-lim_margin, J+lim_margin)\n",
    "    ax.set_xticks([])\n",
    "    ax.set_yticks([])\n",
    "    ax.set_aspect('equal', 'box')\n",
    "    plt.tight_layout()\n",
    "    plt.show()"
   ]
  },
  {
   "cell_type": "code",
   "execution_count": 5,
   "metadata": {},
   "outputs": [
    {
     "name": "stderr",
     "output_type": "stream",
     "text": [
      "/Users/ericchen/opt/anaconda3/envs/446-1/lib/python3.12/site-packages/scipy/sparse/_index.py:108: SparseEfficiencyWarning: Changing the sparsity structure of a csr_matrix is expensive. lil_matrix is more efficient.\n",
      "  self._set_intXint(row, col, x.flat[0])\n"
     ]
    }
   ],
   "source": [
    "N = 20\n",
    "grid = finite.UniformPeriodicGrid(N, 2*np.pi)\n",
    "x = grid.values\n",
    "IC = np.exp(-(x-np.pi)**2*8)\n",
    "\n",
    "d = finite.CenteredFiniteDifference4(grid)\n",
    "\n",
    "alpha = 0.05\n",
    "ts = timesteppers.BackwardEuler(IC, d)\n",
    "ts.step(0.01)"
   ]
  },
  {
   "cell_type": "code",
   "execution_count": 9,
   "metadata": {},
   "outputs": [
    {
     "name": "stderr",
     "output_type": "stream",
     "text": [
      "/var/folders/88/6pmmpt1j1yl6ry0001r5f_lr0000gn/T/ipykernel_55218/3827991142.py:6: RuntimeWarning: divide by zero encountered in log10\n",
      "  matrix_mag = np.log10(np.abs(matrix))\n"
     ]
    },
    {
     "data": {
      "image/png": "[encoded data removed]",
      "text/plain": [
       "<Figure size 300x300 with 1 Axes>"
      ]
     },
     "metadata": {},
     "output_type": "display_data"
    }
   ],
   "source": [
    "plot_2D(ts.LHS.toarray())"
   ]
  },
  {
   "cell_type": "code",
   "execution_count": 10,
   "metadata": {},
   "outputs": [
    {
     "data": {
      "text/plain": [
       "True"
      ]
     },
     "execution_count": 10,
     "metadata": {},
     "output_type": "execute_result"
    }
   ],
   "source": [
    "LU = spla.splu(ts.LHS.tocsc(), permc_spec='NATURAL') # \n",
    "np.allclose((LU.L * LU.U).toarray(), ts.LHS.toarray())"
   ]
  },
  {
   "cell_type": "code",
   "execution_count": 11,
   "metadata": {},
   "outputs": [
    {
     "data": {
      "text/plain": [
       "<20x20 sparse matrix of type '<class 'numpy.float64'>'\n",
       "\twith 400 stored elements in Compressed Sparse Column format>"
      ]
     },
     "execution_count": 11,
     "metadata": {},
     "output_type": "execute_result"
    }
   ],
   "source": [
    "LU.U @ LU.L "
   ]
  },
  {
   "cell_type": "markdown",
   "metadata": {},
   "source": [
    "Once doing this factorization, we solve\n",
    "$$ U \\cdot y = b$$\n",
    "and then\n",
    "$$ L \\cdot x = y.$$"
   ]
  },
  {
   "cell_type": "code",
   "execution_count": 12,
   "metadata": {},
   "outputs": [
    {
     "name": "stderr",
     "output_type": "stream",
     "text": [
      "/var/folders/88/6pmmpt1j1yl6ry0001r5f_lr0000gn/T/ipykernel_55218/3827991142.py:6: RuntimeWarning: divide by zero encountered in log10\n",
      "  matrix_mag = np.log10(np.abs(matrix))\n"
     ]
    },
    {
     "data": {
      "image/png": "[encoded data removed]",
      "text/plain": [
       "<Figure size 300x300 with 1 Axes>"
      ]
     },
     "metadata": {},
     "output_type": "display_data"
    }
   ],
   "source": [
    "plot_2D(ts.LU.U.toarray()) # upper triangle"
   ]
  },
  {
   "cell_type": "code",
   "execution_count": 13,
   "metadata": {},
   "outputs": [
    {
     "name": "stderr",
     "output_type": "stream",
     "text": [
      "/var/folders/88/6pmmpt1j1yl6ry0001r5f_lr0000gn/T/ipykernel_55218/3827991142.py:6: RuntimeWarning: divide by zero encountered in log10\n",
      "  matrix_mag = np.log10(np.abs(matrix))\n"
     ]
    },
    {
     "data": {
      "image/png": "[encoded data removed]",
      "text/plain": [
       "<Figure size 300x300 with 1 Axes>"
      ]
     },
     "metadata": {},
     "output_type": "display_data"
    }
   ],
   "source": [
    "plot_2D(ts.LU.L.toarray()) # lower \n",
    "# from top to bottom \n",
    "# the last row is dense"
   ]
  },
  {
   "cell_type": "markdown",
   "metadata": {},
   "source": [
    "## Crank-Nicolson\n",
    "\n",
    "The Crank-Nicolson method is\n",
    "$$u^{n} = u^{n-1} + \\Delta t \\frac{1}{2}\\left(L(u^n) + L(u^{n-1})\\right).$$\n",
    "We can rewrite this as\n",
    "$$(I - (\\Delta t/2) L) u^{n} = (I + (\\Delta t/2) L) u^{n-1}.$$"
   ]
  },
  {
   "cell_type": "code",
   "execution_count": 14,
   "metadata": {},
   "outputs": [],
   "source": [
    "class CrankNicolson(timesteppers.ImplicitTimestepper):\n",
    "\n",
    "    def _step(self, dt):\n",
    "        if dt != self.dt:\n",
    "            self.LHS = self.I - dt/2*self.L.matrix\n",
    "            self.RHS = self.I + dt/2*self.L.matrix\n",
    "            self.LU = spla.splu(self.LHS.tocsc(), permc_spec='NATURAL')\n",
    "        self.dt = dt\n",
    "        return self.LU.solve(self.RHS @ self.u)"
   ]
  },
  {
   "cell_type": "markdown",
   "metadata": {},
   "source": [
    "Solve the diffusion equation\n",
    "$$\\partial_t u = \\partial_x^2 u.$$"
   ]
  },
  {
   "cell_type": "code",
   "execution_count": 10,
   "metadata": {},
   "outputs": [
    {
     "name": "stdout",
     "output_type": "stream",
     "text": [
      "0.05\n"
     ]
    },
    {
     "data": {
      "text/plain": [
       "[<matplotlib.lines.Line2D at 0x1234780b0>]"
      ]
     },
     "execution_count": 10,
     "metadata": {},
     "output_type": "execute_result"
    },
    {
     "data": {
      "image/png": "[encoded data removed]",
      "text/plain": [
       "<Figure size 400x300 with 1 Axes>"
      ]
     },
     "metadata": {},
     "output_type": "display_data"
    }
   ],
   "source": [
    "res = 400\n",
    "grid = finite.UniformPeriodicGrid(res, 20)\n",
    "x = grid.values\n",
    "IC = np.exp(-(x-10)**2/4)\n",
    "target = 1/np.sqrt(2)*np.exp(-(x-10)**2/8)\n",
    "\n",
    "d2 = finite.CenteredFiniteSecondDifference(grid)\n",
    "\n",
    "alpha = 1\n",
    "ts = CrankNicolson(IC, d2)\n",
    "\n",
    "dt = alpha*grid.dx\n",
    "#dt = 1\n",
    "print(dt)\n",
    "\n",
    "ts.evolve(dt, 1)\n",
    "\n",
    "plt.figure(figsize=(4,3))\n",
    "plt.plot(x, ts.u)\n",
    "plt.plot(x, target)"
   ]
  },
  {
   "cell_type": "code",
   "execution_count": null,
   "metadata": {},
   "outputs": [],
   "source": []
  }
 ],
 "metadata": {
  "kernelspec": {
   "display_name": "446-1",
   "language": "python",
   "name": "python3"
  },
  "language_info": {
   "codemirror_mode": {
    "name": "ipython",
    "version": 3
   },
   "file_extension": ".py",
   "mimetype": "text/x-python",
   "name": "python",
   "nbconvert_exporter": "python",
   "pygments_lexer": "ipython3",
   "version": "3.12.5"
  }
 },
 "nbformat": 4,
 "nbformat_minor": 4
}
