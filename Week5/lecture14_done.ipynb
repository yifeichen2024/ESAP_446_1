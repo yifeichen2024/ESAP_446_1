{
 "cells": [
  {
   "cell_type": "code",
   "execution_count": 1,
   "metadata": {},
   "outputs": [],
   "source": [
    "%matplotlib inline\n",
    "import numpy as np\n",
    "import matplotlib.pyplot as plt\n",
    "import scipy.sparse.linalg as spla\n",
    "from scipy import sparse\n",
    "import time\n",
    "from IPython.display import display, clear_output\n",
    "import finite\n",
    "import timesteppers"
   ]
  },
  {
   "cell_type": "code",
   "execution_count": 2,
   "metadata": {},
   "outputs": [],
   "source": [
    "class StateVector:\n",
    "\n",
    "    def __init__(self, variables):\n",
    "        var0 = variables[0]\n",
    "        self.N = len(var0)\n",
    "        size = self.N*len(variables)\n",
    "        self.data = np.zeros(size)\n",
    "        self.variables = variables\n",
    "        self.gather()\n",
    "\n",
    "    def gather(self):\n",
    "        for i, var in enumerate(self.variables):\n",
    "            np.copyto(self.data[i*self.N:(i+1)*self.N], var)\n",
    "\n",
    "    def scatter(self):\n",
    "        for i, var in enumerate(self.variables):\n",
    "            np.copyto(var, self.data[i*self.N:(i+1)*self.N])"
   ]
  },
  {
   "cell_type": "code",
   "execution_count": 3,
   "metadata": {},
   "outputs": [],
   "source": [
    "class ViscousBurgers:\n",
    "    \n",
    "    def __init__(self, u, nu, d, d2):\n",
    "        self.X = StateVector([u])\n",
    "\n",
    "        N = len(u)\n",
    "        self.M = sparse.eye(N, N)\n",
    "        self.L = -nu*d2.matrix\n",
    "\n",
    "        f = lambda X: -X.data*(d @ X.data)\n",
    "\n",
    "        self.F = f"
   ]
  },
  {
   "cell_type": "code",
   "execution_count": 4,
   "metadata": {},
   "outputs": [],
   "source": [
    "class IMEXTimestepper(timesteppers.Timestepper):\n",
    "\n",
    "    def __init__(self, eq_set):\n",
    "        super().__init__()\n",
    "        self.X = eq_set.X\n",
    "        self.M = eq_set.M\n",
    "        self.L = eq_set.L\n",
    "        self.F = eq_set.F\n",
    "\n",
    "    def step(self, dt):\n",
    "        self.X.data = self._step(dt)\n",
    "        self.X.scatter()\n",
    "        self.dt = dt\n",
    "        self.t += dt\n",
    "        self.iter += 1"
   ]
  },
  {
   "cell_type": "markdown",
   "metadata": {},
   "source": [
    "## Crank-Nicolson--Adams-Bashforth\n",
    "This timestepping scheme is\n",
    "$$(M + 0.5\\Delta t L)u^{n+1} = M u^{n} - 0.5 \\Delta t L u^{n} + 1.5 \\Delta t F(u^{n}) - 0.5\\Delta t F(u^{n-1}).$$\n",
    "This can only be used starting on the second step, because it requires $u^{n-1}$ for the Adams-Bashforth part. So for the first step, we'll use Euler; after that we'll use CNAB."
   ]
  },
  {
   "cell_type": "code",
   "execution_count": 5,
   "metadata": {},
   "outputs": [],
   "source": [
    "class CNAB(IMEXTimestepper):\n",
    "\n",
    "    def _step(self, dt):\n",
    "        if self.iter == 0:\n",
    "            LHS = self.M + dt*self.L\n",
    "            LU = spla.splu(LHS.tocsc(), permc_spec='NATURAL')\n",
    "            \n",
    "            self.FX = self.F(self.X)\n",
    "            RHS = self.M @ self.X.data + dt*self.FX\n",
    "            self.FX_old = self.FX\n",
    "            return LU.solve(RHS)\n",
    "        else:\n",
    "            if dt != self.dt or self.iter == 1:\n",
    "                LHS = self.M + 0.5*dt*self.L\n",
    "                self.LU = spla.splu(LHS.tocsc(), permc_spec='NATURAL')\n",
    "            \n",
    "            self.FX = self.F(self.X)\n",
    "            RHS = self.M @ self.X.data - 0.5*dt*self.L @ self.X.data + 3/2*dt*self.FX - 1/2*dt*self.FX_old\n",
    "            self.FX_old = self.FX\n",
    "            return self.LU.solve(RHS)"
   ]
  },
  {
   "cell_type": "code",
   "execution_count": 6,
   "metadata": {},
   "outputs": [
    {
     "name": "stdout",
     "output_type": "stream",
     "text": [
      "<ufunc 'solve1'>\n",
      "<ufunc 'solve1'>\n"
     ]
    },
    {
     "name": "stderr",
     "output_type": "stream",
     "text": [
      "/opt/miniconda3/envs/446-1/lib/python3.12/site-packages/scipy/sparse/_index.py:151: SparseEfficiencyWarning: Changing the sparsity structure of a csr_matrix is expensive. lil and dok are more efficient.\n",
      "  self._set_arrayXarray(i, j, x)\n"
     ]
    }
   ],
   "source": [
    "grid = finite.UniformPeriodicGrid(200, 5)\n",
    "x = grid.values\n",
    "\n",
    "IC = 0*x\n",
    "for i, xx in enumerate(x):\n",
    "    if xx > 1 and xx <= 2:\n",
    "        IC[i] = (xx-1)\n",
    "    elif xx > 2 and xx < 3:\n",
    "        IC[i] = (3-xx)\n",
    "\n",
    "x_s = 1+np.sqrt(2+2*3)\n",
    "\n",
    "sol = 0*x\n",
    "for i, xx in enumerate(x):\n",
    "    if xx > 1 and xx <= x_s:\n",
    "        sol[i] = 2/(x_s-1)**2*(xx-1)\n",
    "\n",
    "d = finite.DifferenceUniformGrid(1, 4, grid)\n",
    "d2 = finite.DifferenceUniformGrid(2, 4, grid)\n",
    "nu = 0.5e-2\n",
    "\n",
    "u = np.copy(IC)\n",
    "vburgers_problem = ViscousBurgers(u, nu, d, d2)"
   ]
  },
  {
   "cell_type": "code",
   "execution_count": 7,
   "metadata": {},
   "outputs": [
    {
     "data": {
      "image/png": "[encoded data removed]",
      "text/plain": [
       "<Figure size 400x300 with 1 Axes>"
      ]
     },
     "metadata": {},
     "output_type": "display_data"
    },
    {
     "data": {
      "text/plain": [
       "[<matplotlib.lines.Line2D at 0x11bcb4500>]"
      ]
     },
     "execution_count": 7,
     "metadata": {},
     "output_type": "execute_result"
    },
    {
     "data": {
      "image/png": "[encoded data removed]",
      "text/plain": [
       "<Figure size 400x300 with 1 Axes>"
      ]
     },
     "metadata": {},
     "output_type": "display_data"
    }
   ],
   "source": [
    "ts = CNAB(vburgers_problem)\n",
    "alpha = 0.4\n",
    "dt = alpha*grid.dx\n",
    "output_cadence = 2\n",
    "\n",
    "fig = plt.figure(figsize=(4,3))\n",
    "p, = plt.plot(x, u)\n",
    "while ts.t < 3:\n",
    "    ts.step(dt)\n",
    "    if ts.iter % output_cadence == 0:\n",
    "        p.set_ydata(u)\n",
    "        clear_output(wait=True)\n",
    "        display(fig)\n",
    "plt.plot(x, sol)"
   ]
  },
  {
   "cell_type": "markdown",
   "metadata": {},
   "source": [
    "## Wave Equation\n",
    "\n",
    "We want to solve\n",
    "$$\\partial_t^2 u = \\partial_x^2 u,$$\n",
    "which can be rewritten as\n",
    "$$\\partial_t u - v = 0$$\n",
    "$$\\partial_t v - \\partial_x^2 u = 0$$"
   ]
  },
  {
   "cell_type": "code",
   "execution_count": 8,
   "metadata": {},
   "outputs": [],
   "source": [
    "class Wave:\n",
    "    \n",
    "    def __init__(self, u, v, d2):\n",
    "        self.X = StateVector([u, v])\n",
    "        N = len(u)\n",
    "        I = sparse.eye(N, N)\n",
    "        Z = sparse.csr_matrix((N, N))\n",
    "        \n",
    "        M00 = I\n",
    "        M01 = Z\n",
    "        M10 = Z\n",
    "        M11 = I\n",
    "        self.M = sparse.bmat([[M00, M01],\n",
    "                              [M10, M11]])\n",
    "        \n",
    "        L00 = Z\n",
    "        L01 = -I\n",
    "        L10 = -d2.matrix\n",
    "        L11 = Z\n",
    "        self.L = sparse.bmat([[L00, L01],\n",
    "                              [L10, L11]])\n",
    "        \n",
    "        self.F = lambda X: 0*X.data"
   ]
  },
  {
   "cell_type": "markdown",
   "metadata": {},
   "source": [
    "When initializing the simulation we must specify both $u$ and $v$."
   ]
  },
  {
   "cell_type": "code",
   "execution_count": 9,
   "metadata": {},
   "outputs": [],
   "source": [
    "grid = finite.UniformPeriodicGrid(100, 2*np.pi)\n",
    "x = grid.values"
   ]
  },
  {
   "cell_type": "code",
   "execution_count": 10,
   "metadata": {},
   "outputs": [],
   "source": [
    "u = np.exp(-(x-np.pi)**2*8)\n",
    "v = 0*u"
   ]
  },
  {
   "cell_type": "code",
   "execution_count": 11,
   "metadata": {},
   "outputs": [
    {
     "data": {
      "text/plain": [
       "[<matplotlib.lines.Line2D at 0x11be83d70>]"
      ]
     },
     "execution_count": 11,
     "metadata": {},
     "output_type": "execute_result"
    },
    {
     "data": {
      "image/png": "[encoded data removed]",
      "text/plain": [
       "<Figure size 640x480 with 1 Axes>"
      ]
     },
     "metadata": {},
     "output_type": "display_data"
    }
   ],
   "source": [
    "plt.figure()\n",
    "plt.plot(x, u)\n",
    "plt.plot(x, v)"
   ]
  },
  {
   "cell_type": "code",
   "execution_count": 12,
   "metadata": {},
   "outputs": [
    {
     "name": "stdout",
     "output_type": "stream",
     "text": [
      "<ufunc 'solve1'>\n"
     ]
    }
   ],
   "source": [
    "d2 = finite.DifferenceUniformGrid(2, 2, grid)\n",
    "wave_problem = Wave(u, v, d2)"
   ]
  },
  {
   "cell_type": "code",
   "execution_count": 13,
   "metadata": {},
   "outputs": [
    {
     "data": {
      "text/plain": [
       "array([ 0.00000000e+00,  0.00000000e+00,  0.00000000e+00,  0.00000000e+00,\n",
       "        0.00000000e+00,  0.00000000e+00,  0.00000000e+00,  0.00000000e+00,\n",
       "        0.00000000e+00,  0.00000000e+00,  0.00000000e+00,  0.00000000e+00,\n",
       "        0.00000000e+00,  0.00000000e+00,  0.00000000e+00,  0.00000000e+00,\n",
       "        0.00000000e+00,  0.00000000e+00,  0.00000000e+00,  0.00000000e+00,\n",
       "        0.00000000e+00,  0.00000000e+00,  0.00000000e+00,  0.00000000e+00,\n",
       "        0.00000000e+00,  0.00000000e+00,  0.00000000e+00,  0.00000000e+00,\n",
       "        0.00000000e+00,  0.00000000e+00,  0.00000000e+00,  0.00000000e+00,\n",
       "        0.00000000e+00,  0.00000000e+00,  0.00000000e+00,  0.00000000e+00,\n",
       "        0.00000000e+00,  0.00000000e+00,  0.00000000e+00,  0.00000000e+00,\n",
       "        0.00000000e+00,  0.00000000e+00,  0.00000000e+00,  0.00000000e+00,\n",
       "        0.00000000e+00,  0.00000000e+00,  0.00000000e+00,  0.00000000e+00,\n",
       "        0.00000000e+00,  0.00000000e+00,  0.00000000e+00,  0.00000000e+00,\n",
       "        0.00000000e+00,  0.00000000e+00,  0.00000000e+00,  0.00000000e+00,\n",
       "        0.00000000e+00,  0.00000000e+00,  0.00000000e+00,  0.00000000e+00,\n",
       "        0.00000000e+00,  0.00000000e+00,  0.00000000e+00,  0.00000000e+00,\n",
       "        0.00000000e+00,  0.00000000e+00,  0.00000000e+00,  0.00000000e+00,\n",
       "        0.00000000e+00,  0.00000000e+00,  0.00000000e+00,  0.00000000e+00,\n",
       "        0.00000000e+00,  0.00000000e+00,  0.00000000e+00,  0.00000000e+00,\n",
       "        0.00000000e+00,  0.00000000e+00,  0.00000000e+00,  0.00000000e+00,\n",
       "        0.00000000e+00,  0.00000000e+00,  0.00000000e+00,  0.00000000e+00,\n",
       "        0.00000000e+00,  0.00000000e+00,  0.00000000e+00,  0.00000000e+00,\n",
       "        0.00000000e+00,  0.00000000e+00,  0.00000000e+00,  0.00000000e+00,\n",
       "        0.00000000e+00,  0.00000000e+00,  0.00000000e+00,  0.00000000e+00,\n",
       "        0.00000000e+00,  0.00000000e+00,  0.00000000e+00,  0.00000000e+00,\n",
       "       -5.65688279e-31, -5.75272563e-30, -1.14848152e-28, -2.15154046e-27,\n",
       "       -3.78212711e-26, -6.23833396e-25, -9.65451720e-24, -1.40185829e-22,\n",
       "       -1.90972109e-21, -2.44065865e-20, -2.92612295e-19, -3.29080117e-18,\n",
       "       -3.47141965e-17, -3.43462504e-16, -3.18702754e-15, -2.77326231e-14,\n",
       "       -2.26284902e-13, -1.73115742e-12, -1.24161300e-11, -8.34741244e-11,\n",
       "       -5.25986746e-10, -3.10591603e-09, -1.71839714e-08, -8.90623775e-08,\n",
       "       -4.32324137e-07, -1.96500849e-06, -8.36064783e-06, -3.32889066e-05,\n",
       "       -1.23989822e-04, -4.31834242e-04, -1.40565714e-03, -4.27387118e-03,\n",
       "       -1.21295112e-02, -3.21057982e-02, -7.91771966e-02, -1.81695749e-01,\n",
       "       -3.87368043e-01, -7.65667638e-01, -1.39927370e+00, -2.35544807e+00,\n",
       "       -3.63248740e+00, -5.09013408e+00, -6.39440410e+00, -7.02537817e+00,\n",
       "       -6.39205797e+00, -4.05679564e+00, -7.15397736e-04,  5.20074271e+00,\n",
       "        1.04241632e+01,  1.43112235e+01,  1.57499772e+01,  1.43112235e+01,\n",
       "        1.04241632e+01,  5.20074271e+00, -7.15397736e-04, -4.05679564e+00,\n",
       "       -6.39205797e+00, -7.02537817e+00, -6.39440410e+00, -5.09013408e+00,\n",
       "       -3.63248740e+00, -2.35544807e+00, -1.39927370e+00, -7.65667638e-01,\n",
       "       -3.87368043e-01, -1.81695749e-01, -7.91771966e-02, -3.21057982e-02,\n",
       "       -1.21295112e-02, -4.27387118e-03, -1.40565714e-03, -4.31834242e-04,\n",
       "       -1.23989822e-04, -3.32889066e-05, -8.36064783e-06, -1.96500849e-06,\n",
       "       -4.32324137e-07, -8.90623775e-08, -1.71839714e-08, -3.10591603e-09,\n",
       "       -5.25986746e-10, -8.34741244e-11, -1.24161300e-11, -1.73115742e-12,\n",
       "       -2.26284902e-13, -2.77326231e-14, -3.18702754e-15, -3.43462504e-16,\n",
       "       -3.47141965e-17, -3.29080117e-18, -2.92612295e-19, -2.44065865e-20,\n",
       "       -1.90972109e-21, -1.40185829e-22, -9.65451720e-24, -6.23833396e-25,\n",
       "       -3.78212711e-26, -2.15154046e-27, -1.14848152e-28, -5.75272563e-30])"
      ]
     },
     "execution_count": 13,
     "metadata": {},
     "output_type": "execute_result"
    }
   ],
   "source": [
    "wave_problem.L @ wave_problem.X.data"
   ]
  },
  {
   "cell_type": "code",
   "execution_count": 15,
   "metadata": {},
   "outputs": [
    {
     "data": {
      "image/png": "[encoded data removed]",
      "text/plain": [
       "<Figure size 400x300 with 1 Axes>"
      ]
     },
     "metadata": {},
     "output_type": "display_data"
    },
    {
     "data": {
      "text/plain": [
       "[<matplotlib.lines.Line2D at 0x118e8bda0>]"
      ]
     },
     "execution_count": 15,
     "metadata": {},
     "output_type": "execute_result"
    },
    {
     "data": {
      "image/png": "[encoded data removed]",
      "text/plain": [
       "<Figure size 400x300 with 1 Axes>"
      ]
     },
     "metadata": {},
     "output_type": "display_data"
    }
   ],
   "source": [
    "u[:] = np.exp(-(x-np.pi)**2*8)\n",
    "v[:] = 0\n",
    "wave_problem.X.gather()\n",
    "ts = CNAB(wave_problem)\n",
    "alpha = 0.2\n",
    "dt = alpha*grid.dx\n",
    "\n",
    "output_cadence = 5\n",
    "\n",
    "fig = plt.figure(figsize=(4,3))\n",
    "p, = plt.plot(x, u)\n",
    "plt.ylim([-0.2,1.1])\n",
    "while ts.t < 2*np.pi:\n",
    "    ts.step(dt)\n",
    "    if ts.iter % output_cadence == 0:\n",
    "        p.set_ydata(u)\n",
    "        clear_output(wait=True)\n",
    "        display(fig)\n",
    "plt.plot(x, np.exp(-(x-np.pi)**2*8))"
   ]
  },
  {
   "cell_type": "code",
   "execution_count": null,
   "metadata": {},
   "outputs": [],
   "source": []
  }
 ],
 "metadata": {
  "kernelspec": {
   "display_name": "Python 3 (ipykernel)",
   "language": "python",
   "name": "python3"
  },
  "language_info": {
   "codemirror_mode": {
    "name": "ipython",
    "version": 3
   },
   "file_extension": ".py",
   "mimetype": "text/x-python",
   "name": "python",
   "nbconvert_exporter": "python",
   "pygments_lexer": "ipython3",
   "version": "3.12.6"
  }
 },
 "nbformat": 4,
 "nbformat_minor": 4
}
