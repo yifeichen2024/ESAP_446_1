{
 "cells": [
  {
   "cell_type": "code",
   "execution_count": 2,
   "metadata": {},
   "outputs": [],
   "source": [
    "%matplotlib inline\n",
    "import numpy as np\n",
    "import matplotlib.pyplot as plt\n",
    "import scipy.sparse.linalg as spla\n",
    "from scipy import sparse\n",
    "import time\n",
    "from IPython.display import display, clear_output\n",
    "import finite_week5 as finite \n",
    "import timesteppers_hw5 as timesteppers "
   ]
  },
  {
   "cell_type": "markdown",
   "metadata": {},
   "source": [
    "## Viscous Burgers' Equation\n",
    "\n",
    "Standard Burgers' equation is a bit tricky, so we will add on a diffusion term\n",
    "$$\\partial_t u - \\nu\\partial_x^2 u = - u\\partial_x u.$$\n",
    "The diffusion term ($-\\nu\\partial_x^2 u$) is a linear term, and as we described last time, it is difficult to timestep explicitly. So we need to switch to an IMEX scheme, where the diffusion term is treated implicitly, as the advection term is treated explicitly. "
   ]
  },
  {
   "cell_type": "markdown",
   "metadata": {},
   "source": [
    "We want to be able to solve general equations of the form\n",
    "$$M \\partial_t X + L X = F(X),$$\n",
    "so we will be making an equation set which we will pass to our timestepper. The equation set needs to specify the variables we're solving for `X`, the matrices `M` and `L`, and the `F` operator."
   ]
  },
  {
   "cell_type": "markdown",
   "metadata": {},
   "source": [
    "`X` here is a `StateVector`. This is how we will store multiple variables simultaneously, and also allow for coupling between the different variables for the implicit part of the timestepping. The `StateVector` has a list of variables, and also has a `data` attribute which is a single vector containing the variable data. The `gather` and `scatter` methods move data from the variables and the vector, and vice versa."
   ]
  },
  {
   "cell_type": "code",
   "execution_count": null,
   "metadata": {},
   "outputs": [],
   "source": [
    "class StateVector:\n",
    "    '''\n",
    "    X\n",
    "    Make it long vector. \n",
    "    '''\n",
    "    def __init__(self, variables):\n",
    "        var0 = variables[0]\n",
    "        self.N = len(var0)\n",
    "        size = self.N*len(variables) # pass in variables \n",
    "        self.data = np.zeros(size)\n",
    "        self.variables = variables\n",
    "        self.gather() # takes numbers in var into .data\n",
    "    # Take the number in these vector to the variable and slot them into the correct spot.\n",
    "    def gather(self): \n",
    "        for i, var in enumerate(self.variables):\n",
    "            np.copyto(self.data[i*self.N:(i+1)*self.N], var)\n",
    "    # Does the put them back to variables \n",
    "    def scatter(self):\n",
    "        for i, var in enumerate(self.variables):\n",
    "            np.copyto(var, self.data[i*self.N:(i+1)*self.N])"
   ]
  },
  {
   "cell_type": "code",
   "execution_count": 4,
   "metadata": {},
   "outputs": [],
   "source": [
    "grid = finite.UniformPeriodicGrid(200, 5)\n",
    "x = grid.values\n",
    "\n",
    "# Initial condition \n",
    "IC = 0*x\n",
    "for i, xx in enumerate(x):\n",
    "    if xx > 1 and xx <= 2:\n",
    "        IC[i] = (xx-1)\n",
    "    elif xx > 2 and xx < 3:\n",
    "        IC[i] = (3-xx)"
   ]
  },
  {
   "cell_type": "code",
   "execution_count": 5,
   "metadata": {},
   "outputs": [
    {
     "data": {
      "text/plain": [
       "[<matplotlib.lines.Line2D at 0x11a7a73b0>]"
      ]
     },
     "execution_count": 5,
     "metadata": {},
     "output_type": "execute_result"
    },
    {
     "data": {
      "image/png": "[encoded data removed]",
      "text/plain": [
       "<Figure size 640x480 with 1 Axes>"
      ]
     },
     "metadata": {},
     "output_type": "display_data"
    }
   ],
   "source": [
    "plt.figure()\n",
    "plt.plot(x, IC)"
   ]
  },
  {
   "cell_type": "code",
   "execution_count": 6,
   "metadata": {},
   "outputs": [],
   "source": [
    "u = np.copy(IC)"
   ]
  },
  {
   "cell_type": "code",
   "execution_count": 7,
   "metadata": {},
   "outputs": [],
   "source": [
    "X = StateVector([u])"
   ]
  },
  {
   "cell_type": "code",
   "execution_count": null,
   "metadata": {},
   "outputs": [
    {
     "data": {
      "text/plain": [
       "array([0.   , 0.   , 0.   , 0.   , 0.   , 0.   , 0.   , 0.   , 0.   ,\n",
       "       0.   , 0.   , 0.   , 0.   , 0.   , 0.   , 0.   , 0.   , 0.   ,\n",
       "       0.   , 0.   , 0.   , 0.   , 0.   , 0.   , 0.   , 0.   , 0.   ,\n",
       "       0.   , 0.   , 0.   , 0.   , 0.   , 0.   , 0.   , 0.   , 0.   ,\n",
       "       0.   , 0.   , 0.   , 0.   , 0.   , 0.025, 0.05 , 0.075, 0.1  ,\n",
       "       0.125, 0.15 , 0.175, 0.2  , 0.225, 0.25 , 0.275, 0.3  , 0.325,\n",
       "       0.35 , 0.375, 0.4  , 0.425, 0.45 , 0.475, 0.5  , 0.525, 0.55 ,\n",
       "       0.575, 0.6  , 0.625, 0.65 , 0.675, 0.7  , 0.725, 0.75 , 0.775,\n",
       "       0.8  , 0.825, 0.85 , 0.875, 0.9  , 0.925, 0.95 , 0.975, 1.   ,\n",
       "       0.975, 0.95 , 0.925, 0.9  , 0.875, 0.85 , 0.825, 0.8  , 0.775,\n",
       "       0.75 , 0.725, 0.7  , 0.675, 0.65 , 0.625, 0.6  , 0.575, 0.55 ,\n",
       "       0.525, 0.5  , 0.475, 0.45 , 0.425, 0.4  , 0.375, 0.35 , 0.325,\n",
       "       0.3  , 0.275, 0.25 , 0.225, 0.2  , 0.175, 0.15 , 0.125, 0.1  ,\n",
       "       0.075, 0.05 , 0.025, 0.   , 0.   , 0.   , 0.   , 0.   , 0.   ,\n",
       "       0.   , 0.   , 0.   , 0.   , 0.   , 0.   , 0.   , 0.   , 0.   ,\n",
       "       0.   , 0.   , 0.   , 0.   , 0.   , 0.   , 0.   , 0.   , 0.   ,\n",
       "       0.   , 0.   , 0.   , 0.   , 0.   , 0.   , 0.   , 0.   , 0.   ,\n",
       "       0.   , 0.   , 0.   , 0.   , 0.   , 0.   , 0.   , 0.   , 0.   ,\n",
       "       0.   , 0.   , 0.   , 0.   , 0.   , 0.   , 0.   , 0.   , 0.   ,\n",
       "       0.   , 0.   , 0.   , 0.   , 0.   , 0.   , 0.   , 0.   , 0.   ,\n",
       "       0.   , 0.   , 0.   , 0.   , 0.   , 0.   , 0.   , 0.   , 0.   ,\n",
       "       0.   , 0.   , 0.   , 0.   , 0.   , 0.   , 0.   , 0.   , 0.   ,\n",
       "       0.   , 0.   ])"
      ]
     },
     "execution_count": 8,
     "metadata": {},
     "output_type": "execute_result"
    }
   ],
   "source": [
    "X.data # list all the number "
   ]
  },
  {
   "cell_type": "code",
   "execution_count": 9,
   "metadata": {},
   "outputs": [
    {
     "data": {
      "text/plain": [
       "[<matplotlib.lines.Line2D at 0x11b95d250>]"
      ]
     },
     "execution_count": 9,
     "metadata": {},
     "output_type": "execute_result"
    },
    {
     "data": {
      "image/png": "[encoded data removed]",
      "text/plain": [
       "<Figure size 640x480 with 1 Axes>"
      ]
     },
     "metadata": {},
     "output_type": "display_data"
    }
   ],
   "source": [
    "plt.figure()\n",
    "plt.plot(x, X.data)"
   ]
  },
  {
   "cell_type": "code",
   "execution_count": 9,
   "metadata": {},
   "outputs": [],
   "source": [
    "x_s = 1+np.sqrt(2+2*3)\n",
    "\n",
    "sol = 0*x\n",
    "for i, xx in enumerate(x):\n",
    "    if xx > 1 and xx <= x_s:\n",
    "        sol[i] = 2/(x_s-1)**2*(xx-1)\n",
    "        \n",
    "X.data = np.copy(sol)"
   ]
  },
  {
   "cell_type": "code",
   "execution_count": 10,
   "metadata": {},
   "outputs": [],
   "source": [
    "X.scatter()"
   ]
  },
  {
   "cell_type": "code",
   "execution_count": 11,
   "metadata": {},
   "outputs": [],
   "source": [
    "class ViscousBurgers:\n",
    "    \n",
    "    def __init__(self, u, nu, d, d2):\n",
    "        self.X = StateVector([u])\n",
    "        \n",
    "        N = len(u)\n",
    "        self.M = sparse.eye(N, N)\n",
    "        self.L = -nu*d2.matrix\n",
    "        \n",
    "        f = lambda X: -X.data*(d @ X.data)\n",
    "        \n",
    "        self.F = f"
   ]
  },
  {
   "cell_type": "markdown",
   "metadata": {},
   "source": [
    "## Backward/Forward Euler\n",
    "Now we need to write the Forward/Backward Euler timestepper. This is\n",
    "$$(M + \\Delta t L)u^{n+1} = M u^{n} + \\Delta t F(u^{n})$$\n",
    "First, we have a general IMEX timestepping base class."
   ]
  },
  {
   "cell_type": "code",
   "execution_count": 13,
   "metadata": {},
   "outputs": [],
   "source": [
    "class IMEXTimestepper(timesteppers.Timestepper):\n",
    "\n",
    "    def __init__(self, eq_set):\n",
    "        super().__init__()\n",
    "        self.X = eq_set.X\n",
    "        self.M = eq_set.M\n",
    "        self.L = eq_set.L\n",
    "        self.F = eq_set.F\n",
    "\n",
    "    def step(self, dt):\n",
    "        self.X.data = self._step(dt)\n",
    "        self.X.scatter()\n",
    "        self.dt = dt\n",
    "        self.t += dt\n",
    "        self.iter += 1"
   ]
  },
  {
   "cell_type": "code",
   "execution_count": 14,
   "metadata": {},
   "outputs": [],
   "source": [
    "class Euler(IMEXTimestepper):\n",
    "\n",
    "    def _step(self, dt):\n",
    "        if dt != self.dt:\n",
    "            LHS = self.M + dt*self.L\n",
    "            self.LU = spla.splu(LHS.tocsc(), permc_spec='NATURAL')\n",
    "\n",
    "        RHS = self.M @ self.X.data + dt*self.F(self.X)\n",
    "        return self.LU.solve(RHS)"
   ]
  },
  {
   "cell_type": "code",
   "execution_count": 15,
   "metadata": {},
   "outputs": [
    {
     "name": "stdout",
     "output_type": "stream",
     "text": [
      "<ufunc 'solve1'>\n",
      "<ufunc 'solve1'>\n"
     ]
    },
    {
     "name": "stderr",
     "output_type": "stream",
     "text": [
      "/opt/miniconda3/envs/446-1/lib/python3.12/site-packages/scipy/sparse/_index.py:151: SparseEfficiencyWarning: Changing the sparsity structure of a csr_matrix is expensive. lil and dok are more efficient.\n",
      "  self._set_arrayXarray(i, j, x)\n"
     ]
    }
   ],
   "source": [
    "grid = finite.UniformPeriodicGrid(200, 5)\n",
    "x = grid.values\n",
    "\n",
    "IC = 0*x\n",
    "for i, xx in enumerate(x):\n",
    "    if xx > 1 and xx <= 2:\n",
    "        IC[i] = (xx-1)\n",
    "    elif xx > 2 and xx < 3:\n",
    "        IC[i] = (3-xx)\n",
    "\n",
    "x_s = 1+np.sqrt(2+2*3)\n",
    "\n",
    "sol = 0*x\n",
    "for i, xx in enumerate(x):\n",
    "    if xx > 1 and xx <= x_s:\n",
    "        sol[i] = 2/(x_s-1)**2*(xx-1)\n",
    "\n",
    "d = finite.DifferenceUniformGrid(1, 2, grid)\n",
    "d2 = finite.DifferenceUniformGrid(2, 2, grid)\n",
    "nu = 1e-2\n",
    "\n",
    "u = np.copy(IC)\n",
    "vburgers_problem = ViscousBurgers(u, nu, d, d2)"
   ]
  },
  {
   "cell_type": "code",
   "execution_count": 16,
   "metadata": {},
   "outputs": [
    {
     "data": {
      "image/png": "[encoded data removed]",
      "text/plain": [
       "<Figure size 400x300 with 1 Axes>"
      ]
     },
     "metadata": {},
     "output_type": "display_data"
    },
    {
     "data": {
      "text/plain": [
       "[<matplotlib.lines.Line2D at 0x118955220>]"
      ]
     },
     "execution_count": 16,
     "metadata": {},
     "output_type": "execute_result"
    },
    {
     "data": {
      "image/png": "[encoded data removed]",
      "text/plain": [
       "<Figure size 400x300 with 1 Axes>"
      ]
     },
     "metadata": {},
     "output_type": "display_data"
    }
   ],
   "source": [
    "ts = Euler(vburgers_problem)\n",
    "\n",
    "alpha = 0.8\n",
    "dt = alpha*grid.dx\n",
    "output_cadence = 2\n",
    "\n",
    "fig = plt.figure(figsize=(4,3))\n",
    "p, = plt.plot(x, u)\n",
    "while ts.t < 3:\n",
    "    ts.step(dt)\n",
    "    if ts.iter % output_cadence == 0:\n",
    "        p.set_ydata(u)\n",
    "        clear_output(wait=True)\n",
    "        display(fig)\n",
    "plt.plot(x, sol)"
   ]
  },
  {
   "cell_type": "code",
   "execution_count": null,
   "metadata": {},
   "outputs": [],
   "source": []
  }
 ],
 "metadata": {
  "kernelspec": {
   "display_name": "446",
   "language": "python",
   "name": "python3"
  },
  "language_info": {
   "codemirror_mode": {
    "name": "ipython",
    "version": 3
   },
   "file_extension": ".py",
   "mimetype": "text/x-python",
   "name": "python",
   "nbconvert_exporter": "python",
   "pygments_lexer": "ipython3",
   "version": "3.12.0"
  }
 },
 "nbformat": 4,
 "nbformat_minor": 4
}
