{
 "cells": [
  {
   "cell_type": "code",
   "execution_count": 1,
   "metadata": {},
   "outputs": [],
   "source": [
    "%matplotlib inline"
   ]
  },
  {
   "cell_type": "markdown",
   "metadata": {},
   "source": [
    "I've added forward and centered finite difference operators to the `finite.py` file that we can use in these notes."
   ]
  },
  {
   "cell_type": "code",
   "execution_count": 2,
   "metadata": {},
   "outputs": [],
   "source": [
    "import numpy as np\n",
    "import matplotlib.pyplot as plt\n",
    "import scipy.sparse as sparse\n",
    "import finite\n",
    "from IPython.display import display, clear_output"
   ]
  },
  {
   "cell_type": "markdown",
   "metadata": {},
   "source": [
    "Here's a base class to help us make and test different timestepping methods. It is designed to solve a problem of the form\n",
    "$$ \\partial_t u = f(u, t).$$"
   ]
  },
  {
   "cell_type": "code",
   "execution_count": 5,
   "metadata": {},
   "outputs": [],
   "source": [
    "class Timestepper:\n",
    "\n",
    "    def __init__(self):\n",
    "        self.t = 0\n",
    "        self.iter = 0\n",
    "        self.dt = None\n",
    "\n",
    "    def step(self, dt):\n",
    "        self.u = self._step(dt)\n",
    "        self.t += dt\n",
    "        self.iter += 1\n",
    "        \n",
    "    def evolve(self, dt, time):\n",
    "        while self.t < time - 1e-8:\n",
    "            self.step(dt)\n",
    "\n",
    "\n",
    "class ExplicitTimestepper(Timestepper):\n",
    "\n",
    "    def __init__(self, u, f):\n",
    "        super().__init__()\n",
    "        self.u = u\n",
    "        self.f = f"
   ]
  },
  {
   "cell_type": "markdown",
   "metadata": {},
   "source": [
    "## Forward Euler\n",
    "\n",
    "Each timestepper needs a `_step` method. The Forward Euler method is\n",
    "$$u^{n+1} = u^n + \\Delta t f(u^n).$$"
   ]
  },
  {
   "cell_type": "markdown",
   "metadata": {},
   "source": [
    "Next we can build our timestepper:"
   ]
  },
  {
   "cell_type": "code",
   "execution_count": 6,
   "metadata": {},
   "outputs": [],
   "source": [
    "class ForwardEuler(ExplicitTimestepper):\n",
    "\n",
    "    def _step(self, dt):\n",
    "        return self.u + dt* self.f(self.u)"
   ]
  },
  {
   "cell_type": "code",
   "execution_count": 7,
   "metadata": {},
   "outputs": [],
   "source": [
    "L = 0.1\n",
    "def IC(x):\n",
    "    return np.exp(-(1+np.cos(x))**2/2/L**2)\n",
    "\n",
    "grid = finite.UniformPeriodicGrid(100, 2*np.pi)\n",
    "x = grid.values\n",
    "u = IC(x)"
   ]
  },
  {
   "cell_type": "code",
   "execution_count": 9,
   "metadata": {},
   "outputs": [
    {
     "data": {
      "text/plain": [
       "[<matplotlib.lines.Line2D at 0x118a45b20>]"
      ]
     },
     "execution_count": 9,
     "metadata": {},
     "output_type": "execute_result"
    }
   ],
   "source": [
    "plt.figure\n",
    "plt.plot(x,u)"
   ]
  },
  {
   "cell_type": "markdown",
   "metadata": {},
   "source": [
    "We have to decide what `f` function to use. Here we will focus on the hyperbolic equation\n",
    "$$ \\partial_t u = \\partial_x u $$\n",
    "We can discretize $\\partial_x$ with\n",
    "1. Forward differencing\n",
    "2. Centered differencing"
   ]
  },
  {
   "cell_type": "code",
   "execution_count": null,
   "metadata": {},
   "outputs": [],
   "source": []
  },
  {
   "cell_type": "code",
   "execution_count": null,
   "metadata": {},
   "outputs": [],
   "source": [
    "plt.figure()\n",
    "plt.plot(x, IC(x), label=r'$t=0$')\n",
    "plt.plot(x, ts.u, label=r'$t=\\Delta t$')\n",
    "plt.legend()"
   ]
  },
  {
   "cell_type": "code",
   "execution_count": null,
   "metadata": {},
   "outputs": [],
   "source": []
  },
  {
   "cell_type": "code",
   "execution_count": null,
   "metadata": {},
   "outputs": [],
   "source": []
  },
  {
   "cell_type": "code",
   "execution_count": null,
   "metadata": {},
   "outputs": [],
   "source": [
    "grid = finite.UniformPeriodicGrid(400, 2*np.pi)\n",
    "x = grid.values\n",
    "\n",
    "\n",
    "\n",
    "\n",
    "output_cadence = 10\n",
    "\n",
    "fig = plt.figure(figsize=(4,3))\n",
    "p, = plt.plot(x, ts.u)\n",
    "plt.ylim([-0.1, 1.1])\n",
    "while ts.t < 2*np.pi:\n",
    "    ts.step(dt)\n",
    "    if ts.iter % output_cadence == 0:\n",
    "        p.set_ydata(ts.u)\n",
    "        clear_output(wait=True)\n",
    "        display(fig)\n",
    "plt.plot(x, IC(x))"
   ]
  },
  {
   "cell_type": "markdown",
   "metadata": {},
   "source": [
    "Now let's try central differencing."
   ]
  },
  {
   "cell_type": "code",
   "execution_count": null,
   "metadata": {},
   "outputs": [],
   "source": []
  }
 ],
 "metadata": {
  "kernelspec": {
   "display_name": "446-1",
   "language": "python",
   "name": "python3"
  },
  "language_info": {
   "codemirror_mode": {
    "name": "ipython",
    "version": 3
   },
   "file_extension": ".py",
   "mimetype": "text/x-python",
   "name": "python",
   "nbconvert_exporter": "python",
   "pygments_lexer": "ipython3",
   "version": "3.12.5"
  }
 },
 "nbformat": 4,
 "nbformat_minor": 4
}
