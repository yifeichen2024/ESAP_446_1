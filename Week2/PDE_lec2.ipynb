{
 "cells": [
  {
   "cell_type": "markdown",
   "metadata": {},
   "source": [
    "# Spatial Derivative 波动方程中的空间导数近似\n",
    "\n",
    "在求解偏微分方程（PDE），例如波动方程的过程中，我们经常需要使用数值方法来近似空间导数。在本文中，我们将讨论**波动方程**，以及如何使用不同的数值方法来估计空间导数，包括**欧拉前向**、**欧拉后向**和**中心差分**方法，并使用**泰勒级数**来分析它们的误差。\n"
   ]
  },
  {
   "cell_type": "markdown",
   "metadata": {},
   "source": [
    "## 波动方程\n",
    "\n",
    "波动方程表示为：\n",
    "$$\n",
    "\\frac{\\partial^2 u}{\\partial t^2} = \\frac{\\partial^2 u}{\\partial x^2}\n",
    "$$\n",
    "\n",
    "我们的目标是使用数值方法来近似空间导数 $ \\frac{\\partial^2 u}{\\partial x^2} $，特别是使用**Euler forward**、**Euler Backward**和**Centered**方法。\n"
   ]
  },
  {
   "cell_type": "markdown",
   "metadata": {},
   "source": [
    "## 1. 欧拉前向近似\n",
    "\n",
    "欧拉前向近似用于近似一阶空间导数。在网格点 \\( x_j \\) 处，网格步长为 \\( \\Delta x \\) 时，前向差分近似的一阶导数公式为：\n",
    "$$\n",
    "\\frac{\\partial u}{\\partial x}|_{x_j} \\approx \\frac{u_{j+1} - u_j}{\\Delta x}\n",
    "$$\n",
    "\n",
    "对于**二阶导数** $\\frac{\\partial^2 u}{\\partial x^2} $，使用两次前向差分得到：\n",
    "\n",
    "$$\n",
    "\\frac{\\partial^2 u}{\\partial x^2}|_{x_j} \\approx \\frac{u_{j+2} - 2u_{j+1} + u_j}{\\Delta x^2}\n",
    "$$\n"
   ]
  },
  {
   "cell_type": "markdown",
   "metadata": {},
   "source": [
    "### 误差分析\n",
    "使用**泰勒级数展开**来分析截断误差：\n",
    "\n",
    "\n",
    "$$\n",
    "u(x+\\Delta x) = u(x) + \\Delta x \\frac{d u}{d x}|_x + \\frac{\\Delta x^2}{2!} \\frac{d^2 u}{d x^2}|_x + \\mathcal{O}(\\Delta x^3)\n",
    "$$\n",
    "\n",
    "前向欧拉近似具有**一阶准确性**，意味着误差为 $ \\mathcal{O}(\\Delta x) $。"
   ]
  },
  {
   "cell_type": "markdown",
   "metadata": {},
   "source": [
    "## 2. 欧拉后向近似\n",
    "\n",
    "欧拉后向近似使用当前和前一个网格点的值。后向差分近似的一阶导数公式为：\n",
    "\n",
    "$$\n",
    "\\frac{\\partial u}{\\partial x}|_{x_j} \\approx \\frac{u_j - u_{j-1}}{\\Delta x}\n",
    "$$\n",
    "\n",
    "对于**二阶导数**使用后向差分得到：\n",
    "\n",
    "$$\n",
    "\\frac{\\partial^2 u}{\\partial x^2}|_{x_j} \\approx \\frac{u_j - 2u_{j-1} + u_{j-2}}{\\Delta x^2}\n",
    "$$\n",
    "\n",
    "### 误差分析\n",
    "使用泰勒级数展开：\n",
    "\n",
    "$$\n",
    "u(x-\\Delta x) = u(x) - \\Delta x \\frac{d u}{d x}|_x + \\frac{\\Delta x^2}{2!} \\frac{d^2 u}{d x^2}|_x + \\mathcal{O}(\\Delta x^3)\n",
    "$$\n",
    "\n",
    "后向欧拉近似也具有**一阶准确性**，截断误差为 $ \\mathcal{O}(\\Delta x) $。"
   ]
  },
  {
   "cell_type": "markdown",
   "metadata": {},
   "source": [
    "## 3. 中心差分近似\n",
    "\n",
    "中心差分近似更为精确，因为它使用了目标点两侧的信息。一阶导数的中心差分公式为：\n",
    "\n",
    "$$\n",
    "\\frac{\\partial u}{\\partial x}|_{x_j} \\approx \\frac{u_{j+1} - u_{j-1}}{2\\Delta x}\n",
    "$$\n",
    "\n",
    "对于**二阶导数**：\n",
    "\n",
    "$$\n",
    "\\frac{\\partial^2 u}{\\partial x^2}|_{x_j} \\approx \\frac{u_{j+1} - 2u_j + u_{j-1}}{\\Delta x^2}\n",
    "$$\n",
    "\n",
    "### 误差分析\n",
    "对于 $ u(x+\\Delta x) $ 和 $ u(x-\\Delta x) $ 使用泰勒级数展开：\n",
    "\n",
    "$$\n",
    "u(x+\\Delta x) = u(x) + \\Delta x \\frac{d u}{d x}|_x + \\frac{\\Delta x^2}{2!} \\frac{d^2 u}{d x^2}|_x + \\mathcal{O}(\\Delta x^3)\n",
    "$$\n",
    "$$\n",
    "u(x-\\Delta x) = u(x) - \\Delta x \\frac{d u}{d x}|_x + \\frac{\\Delta x^2}{2!} \\frac{d^2 u}{d x^2}|_x + \\mathcal{O}(\\Delta x^3)\n",
    "$$\n",
    "相减后得到截断误差为 $ \\mathcal{O}(\\Delta x^2) $，这意味着**中心差分近似具有二阶准确性**。\n",
    "\n",
    "## 准确性总结\n",
    "- **欧拉前向和欧拉后向**：一阶准确性（误差为 $ \\mathcal{O}(\\Delta x) $）。\n",
    "- **中心差分**：二阶准确性（误差为 $ \\mathcal{O}(\\Delta x^2) $）。\n",
    "\n",
    "在需要更高精度而不显著增加计算成本的情况下，通常优先选择中心差分。\n",
    "\n"
   ]
  },
  {
   "cell_type": "markdown",
   "metadata": {},
   "source": [
    "## 4. 四阶高阶近似（Fourth Order Approximation）\n",
    "\n",
    "对于需要更高精度的应用，可以使用**四阶高阶差分**来近似二阶导数。四阶差分公式使用更多的网格点，能够显著降低误差。\n",
    "\n",
    "对于**二阶导数**的四阶高阶近似，公式为：\n",
    "\n",
    "$$\n",
    "\\frac{\\partial^2 u}{\\partial x^2}|_{x_j} \\approx \\frac{-u_{j+2} + 16u_{j+1} - 30u_j + 16u_{j-1} - u_{j-2}}{12\\Delta x^2}\n",
    "$$\n",
    "\n",
    "### 误差分析\n",
    "通过泰勒级数展开，可以证明该近似的截断误差为 $ \\mathcal{O}(\\Delta x^4) $，这意味着**四阶高阶近似具有四阶准确性**。相比二阶中心差分方法，四阶近似在较大网格步长的情况下仍能保持较高的精度。\n",
    "\n",
    "- 对于 $ u(x_{j+1}) $：\n",
    "  $$\n",
    "  u(x_{j+1}) = u(x) + \\Delta x \\frac{d u}{d x}|_x + \\frac{\\Delta x^2}{2!} \\frac{d^2 u}{d x^2}|_x + \\frac{\\Delta x^3}{3!} \\frac{d^3 u}{d x^3}|_x + \\frac{\\Delta x^4}{4!} \\frac{d^4 u}{d x^4}|_x + \\mathcal{O}(\\Delta x^5)\n",
    "  $$\n",
    "- 对于 $ u(x_{j+2}) $：\n",
    "  $$\n",
    "  u(x_{j+2}) = u(x) + 2\\Delta x \\frac{d u}{d x}|_x + \\frac{(2\\Delta x)^2}{2!} \\frac{d^2 u}{d x^2}|_x + \\frac{(2\\Delta x)^3}{3!} \\frac{d^3 u}{d x^3}|_x + \\frac{(2\\Delta x)^4}{4!} \\frac{d^4 u}{d x^4}|_x + \\mathcal{O}(\\Delta x^5)\n",
    "  $$\n",
    "- 对于 $ u(x_{j-1}) $ 和 $ u(x_{j-2}) $ 也可以类似地展开。\n",
    "\n",
    "将这些泰勒展开代入四阶差分公式中，通过对各项进行线性组合，可以发现所有的一阶、三阶以及五阶导数项全部相互抵消，最终剩下的误差项是与四阶导数相关的项，其量级为 $ \\mathcal{O}(\\Delta x^4) $。\n",
    "\n",
    "\n",
    "## 5. 有限差分中的傅里叶分析与特征函数\n",
    "在有限差分近似中，**傅里叶分析（Fourier Analysis）**是用来研究数值误差和方法稳定性的重要工具。特别是通过傅里叶级数展开，我们可以理解不同频率分量在数值离散化中的行为。\n",
    "\n",
    "### 傅里叶分析的基本思想\n",
    "考虑一个离散化的函数，可以用傅里叶级数表示为一系列**正弦函数和余弦函数**的线性组合，即：\n",
    "\n",
    "\\[\n",
    "u_j = \\sum_k \\hat{u}_k e^{i k j \\Delta x}\\]\n",
    "\n",
    "其中，\\( \\hat{u}_k \\) 是傅里叶系数，描述了不同波数 \\( k \\) 的贡献。将这一形式代入有限差分离散化的公式中，可以分析不同波数在离散化过程中的行为。\n",
    "\n",
    "### 特征函数和误差传播\n",
    "傅里叶分析中，**特征函数（eigenfunctions）**是指这种形式的指数函数，它们是有限差分离散算子的特征函数。对于二阶中心差分算子，例如：\n",
    "\n",
    "$$\n",
    "L u_j = \\frac{u_{j+1} - 2u_j + u_{j-1}}{\\Delta x^2}\n",
    "$$\n",
    "\n",
    "当我们用傅里叶形式的特征函数来表示 $ u_j $ 时，可以得到：\n",
    "\n",
    "$$\n",
    "L e^{i k j \\Delta x} = \\lambda(k) e^{i k j \\Delta x}\n",
    "$$\n",
    "\n",
    "其中，$ \\lambda(k) $ 是特征值，表示特定波数的衰减或增长率。通过计算特征值 $ \\lambda(k) $，我们可以分析离散化方法对于不同频率分量的影响。\n",
    "\n",
    "### 分析有限差分方法的性质\n",
    "- **相位误差（Phase Error）**：在数值离散化中，不同波数的频率会因为离散化而发生偏移，这种现象称为相位误差。傅里叶分析可以用来定量地描述这种误差。\n",
    "- **幅值误差（Amplitude Error）**：傅里叶分析也可以用来确定不同频率的振幅如何在离散化过程中被放大或衰减。\n",
    "\n",
    "通过傅里叶分析，我们可以深入理解有限差分方法的误差传播特性，以及如何选择网格大小和时间步长来确保数值方法的稳定性和准确性。\n",
    "\n"
   ]
  },
  {
   "cell_type": "markdown",
   "metadata": {},
   "source": [
    "## 准确性总结\n",
    "- **欧拉前向和欧拉后向**：一阶准确性（误差为 $ \\mathcal{O}(\\Delta x) $）。\n",
    "- **中心差分**：二阶准确性（误差为 $ \\mathcal{O}(\\Delta x^2) $）。\n",
    "- **四阶高阶差分**：四阶准确性（误差为 $ \\mathcal{O}(\\Delta x^4) $）。\n",
    "\n",
    "在需要更高精度而不显著增加计算成本的情况下，通常优先选择中心差分或四阶高阶差分方法。"
   ]
  }
 ],
 "metadata": {
  "language_info": {
   "name": "python"
  }
 },
 "nbformat": 4,
 "nbformat_minor": 2
}
