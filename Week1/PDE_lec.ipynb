{
 "cells": [
  {
   "cell_type": "markdown",
   "metadata": {},
   "source": [
    "# PDE: First glance"
   ]
  },
  {
   "cell_type": "markdown",
   "metadata": {},
   "source": [
    "## PDE 和 ODE的区别\n",
    "两者都是用来描述变化的方程。\n",
    "- 变量的数量    \n",
    "  - **ODE** 涉及一个自变量，时间或者空间。描述未知函数相对于单个自变量的变化率。 $\\frac{dy}{dt} = f(t, y)$\n",
    "  - **PDE** 涉及多个自变量，时间和空间。描述的是一个未知函数相对于多个自变量的变化率。 $\\frac{\\partial u}{\\partial t} = D \\frac{\\partial^2 u}{\\partial x^2}$\n",
    "- 微分类型\n",
    "  - **ODE** 中的微分都是常微分，因为只有一个自变量。\n",
    "  - **PDE** 中的是偏导数，因为未知函数依赖多个自变量，需要对不同自变量进行微分操作。\n",
    "- 物理现象描述\n",
    "  - **ODE** 通常用于描述随时间变化的现象，例如物体的运动、弹簧振子的行为。都是对单一变量（时间或者空间方向）的变化\n",
    "  - **PDE** 则用于描述空间和时间上同时变化的复杂现象，流体动力学、热传导、波动等，现象需要多个变量（空间和时间）同时考虑。\n",
    "- 求解难度\n",
    "  - **ODE** 更容易求解，很多可以用直接结芬或者解析的方式来解决，例如分离变量法、特征值方法。\n",
    "  - **PDE** 求解复杂，需要数值的方法来求解（有限差分法，有限元法）。PDE的复杂性在于他们的解往往依赖于多个变量之间的关系，通常需要设定边界条件和初始条件。"
   ]
  },
  {
   "cell_type": "markdown",
   "metadata": {},
   "source": [
    "## Class of PDE\n",
    "- 双曲型Hyperbolic：描述波动现象，解有波动特征\n",
    "- 抛物型Parabolic：描述扩散现象，解随时间逐渐平滑\n",
    "- 椭圆型Elliptic：描述稳定分布，解平滑，依赖于边界条件\n",
    "\n",
    "### Hyperbolic\n",
    "最常见的双曲型PDE是Wave Equation：\n",
    "$$\n",
    "\\frac{\\partial^2 u}{\\partial t^2} = c^2 \\frac{\\partial^2 u}{\\partial x^2}\n",
    "$$\n",
    "$u(x,t)$是关于时间t 和x 的函数，c是常数（wave speed）\n",
    "Also has the form：\n",
    "$$\n",
    "\\partial^2_t u = \\partial^2_x u\n",
    "$$\n",
    "\n",
    "### Parabolic \n",
    "Heat function:\n",
    "$$\n",
    "\\frac{\\partial u}{\\partial t} = D \\frac{\\partial^2 u}{\\partial x^2}\n",
    "$$\n",
    "$u(x, t)$ 是温度分布，$D$是扩散系数\n",
    "$$\n",
    "\\partial _t u = \\partial^2_x u\n",
    "$$\n",
    "\n",
    "### Elliptic \n",
    "$$\n",
    "\\laplace^2 u = \\partial^2_x u + \\partial^2_y u = 0\n",
    "$$\n",
    "\n",
    "\n"
   ]
  },
  {
   "cell_type": "markdown",
   "metadata": {},
   "source": [
    "### Form of Solution \n",
    "$$\n",
    "u = \\sum_k exp(-\\omega t + ikx)\n",
    "$$\n",
    "是一种常见的傅里叶级数表示，用于描述 PDE 解的特定形式"
   ]
  },
  {
   "cell_type": "code",
   "execution_count": null,
   "metadata": {},
   "outputs": [],
   "source": []
  },
  {
   "cell_type": "code",
   "execution_count": null,
   "metadata": {},
   "outputs": [],
   "source": []
  },
  {
   "cell_type": "code",
   "execution_count": 1,
   "metadata": {},
   "outputs": [],
   "source": []
  }
 ],
 "metadata": {
  "kernelspec": {
   "display_name": "446-1",
   "language": "python",
   "name": "python3"
  },
  "language_info": {
   "codemirror_mode": {
    "name": "ipython",
    "version": 3
   },
   "file_extension": ".py",
   "mimetype": "text/x-python",
   "name": "python",
   "nbconvert_exporter": "python",
   "pygments_lexer": "ipython3",
   "version": "3.12.5"
  }
 },
 "nbformat": 4,
 "nbformat_minor": 2
}
